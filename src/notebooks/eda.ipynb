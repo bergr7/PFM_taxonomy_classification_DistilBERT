{
  "nbformat": 4,
  "nbformat_minor": 0,
  "metadata": {
    "language_info": {
      "codemirror_mode": {
        "name": "ipython",
        "version": 3
      },
      "file_extension": ".py",
      "mimetype": "text/x-python",
      "name": "python",
      "nbconvert_exporter": "python",
      "pygments_lexer": "ipython3",
      "version": "3.7.3"
    },
    "orig_nbformat": 2,
    "kernelspec": {
      "name": "python373jvsc74a57bd0e66c6c0a3ffba088503edadb2b97b8501f31cebbc426fce53e6065aa08899a36",
      "display_name": "Python 3.7.3 64-bit ('finbert': conda)"
    },
    "colab": {
      "name": "eda.ipynb",
      "provenance": [],
      "collapsed_sections": []
    }
  },
  "cells": [
    {
      "cell_type": "markdown",
      "metadata": {
        "id": "MOmX6VQivSsG"
      },
      "source": [
        "__Dataset__\n",
        "\n",
        "- 60.000 data points\n",
        "- Each data point -> Event name and description\n",
        "- Classes:\n",
        "    - Primary class\n",
        "    - Secundary class, related to the Primary\n",
        "    - e.g. Sport -> Football, Sport -> Basketball\n",
        "- There is class imbalance\n",
        "- Some classes are incorrectly assigned -> Noise\n",
        "\n",
        "__Problem__\n",
        "\n",
        "Multi-label / Multi-class classification problem with levels (Hierarchical Classification)\n",
        "\n",
        "__Metrics__\n",
        "\n",
        "All classes have the same importance -> Accuracy\n",
        "\n",
        "\n",
        "    \n",
        "    "
      ]
    },
    {
      "cell_type": "markdown",
      "metadata": {
        "id": "Dz8Dn0QvvSsJ"
      },
      "source": [
        "# 0. Imports"
      ]
    },
    {
      "cell_type": "code",
      "metadata": {
        "id": "-EwYVeBEvSsK"
      },
      "source": [
        "import pandas as pd\n",
        "import numpy as np\n",
        "import matplotlib.pyplot as plt\n",
        "\n",
        "import random\n",
        "import re"
      ],
      "execution_count": null,
      "outputs": []
    },
    {
      "cell_type": "code",
      "metadata": {
        "id": "tdfebBbQvSsK"
      },
      "source": [
        "raw_data = pd.read_csv(\"/content/drive/MyDrive/Colab Notebooks/PFM/data/data.csv\", encoding='utf-8').drop('Unnamed: 0', axis=1)"
      ],
      "execution_count": null,
      "outputs": []
    },
    {
      "cell_type": "code",
      "metadata": {
        "id": "ujD3o9U5vSsL",
        "colab": {
          "base_uri": "https://localhost:8080/",
          "height": 204
        },
        "outputId": "a04221fa-7f49-471b-82bd-8c24b54b515a"
      },
      "source": [
        "raw_data.head()"
      ],
      "execution_count": null,
      "outputs": [
        {
          "output_type": "execute_result",
          "data": {
            "text/html": [
              "<div>\n",
              "<style scoped>\n",
              "    .dataframe tbody tr th:only-of-type {\n",
              "        vertical-align: middle;\n",
              "    }\n",
              "\n",
              "    .dataframe tbody tr th {\n",
              "        vertical-align: top;\n",
              "    }\n",
              "\n",
              "    .dataframe thead th {\n",
              "        text-align: right;\n",
              "    }\n",
              "</style>\n",
              "<table border=\"1\" class=\"dataframe\">\n",
              "  <thead>\n",
              "    <tr style=\"text-align: right;\">\n",
              "      <th></th>\n",
              "      <th>title</th>\n",
              "      <th>description</th>\n",
              "      <th>taxonomy</th>\n",
              "      <th>subtaxonomy</th>\n",
              "    </tr>\n",
              "  </thead>\n",
              "  <tbody>\n",
              "    <tr>\n",
              "      <th>0</th>\n",
              "      <td>London Dungeon LATES with Cocktail</td>\n",
              "      <td>Lates mashes up theatre, special effects and i...</td>\n",
              "      <td>273</td>\n",
              "      <td>275</td>\n",
              "    </tr>\n",
              "    <tr>\n",
              "      <th>1</th>\n",
              "      <td>Drumchapel &amp; West Winterfest Fireworks</td>\n",
              "      <td>Don't miss Drumchapel's annual fireworks extra...</td>\n",
              "      <td>273</td>\n",
              "      <td>275</td>\n",
              "    </tr>\n",
              "    <tr>\n",
              "      <th>2</th>\n",
              "      <td>MEGALAND 2019</td>\n",
              "      <td>MEGALAND 2019 in the SimÃ³n Bolivar Park. Live...</td>\n",
              "      <td>173</td>\n",
              "      <td>201</td>\n",
              "    </tr>\n",
              "    <tr>\n",
              "      <th>3</th>\n",
              "      <td>Extravaganza</td>\n",
              "      <td>It's Extravaganza time at Ferrymead Heritage P...</td>\n",
              "      <td>273</td>\n",
              "      <td>275</td>\n",
              "    </tr>\n",
              "    <tr>\n",
              "      <th>4</th>\n",
              "      <td>A Nightmare on Duddell's Street</td>\n",
              "      <td>Disco Bao is back, this time with a freaky twi...</td>\n",
              "      <td>173</td>\n",
              "      <td>267</td>\n",
              "    </tr>\n",
              "  </tbody>\n",
              "</table>\n",
              "</div>"
            ],
            "text/plain": [
              "                                    title  ... subtaxonomy\n",
              "0      London Dungeon LATES with Cocktail  ...         275\n",
              "1  Drumchapel & West Winterfest Fireworks  ...         275\n",
              "2                           MEGALAND 2019  ...         201\n",
              "3                            Extravaganza  ...         275\n",
              "4         A Nightmare on Duddell's Street  ...         267\n",
              "\n",
              "[5 rows x 4 columns]"
            ]
          },
          "metadata": {
            "tags": []
          },
          "execution_count": 6
        }
      ]
    },
    {
      "cell_type": "code",
      "metadata": {
        "colab": {
          "base_uri": "https://localhost:8080/"
        },
        "id": "T6pPKytEvSsL",
        "outputId": "5f45f9e3-1be4-4d34-9956-f38b7c4db83c"
      },
      "source": [
        "raw_data.shape"
      ],
      "execution_count": null,
      "outputs": [
        {
          "output_type": "execute_result",
          "data": {
            "text/plain": [
              "(59879, 4)"
            ]
          },
          "metadata": {
            "tags": []
          },
          "execution_count": 7
        }
      ]
    },
    {
      "cell_type": "markdown",
      "metadata": {
        "id": "eehphTUuzqnZ"
      },
      "source": [
        "# 1. Class Distribution"
      ]
    },
    {
      "cell_type": "code",
      "metadata": {
        "colab": {
          "base_uri": "https://localhost:8080/"
        },
        "id": "MGbSjgf3vSsM",
        "outputId": "06ff1d69-1ccc-4955-cec2-869122cfa98f"
      },
      "source": [
        "# missing values\n",
        "raw_data.isnull().sum()"
      ],
      "execution_count": null,
      "outputs": [
        {
          "output_type": "execute_result",
          "data": {
            "text/plain": [
              "title              0\n",
              "description    12702\n",
              "taxonomy           0\n",
              "subtaxonomy        0\n",
              "dtype: int64"
            ]
          },
          "metadata": {
            "tags": []
          },
          "execution_count": 8
        }
      ]
    },
    {
      "cell_type": "code",
      "metadata": {
        "id": "GfoxtW6GvSsM"
      },
      "source": [
        "def plot_class_distribution(series, title, percentage=True):\n",
        "    \"\"\"\n",
        "    Plot distribution of classes from a Pandas Series.\n",
        "    \"\"\"\n",
        "    primary_class = series.map(lambda x: 'Class ' + str(x))\n",
        "    primary_class_proportions = (primary_class.value_counts() / primary_class.shape[0]) * 100\n",
        "\n",
        "    primary_class.value_counts().plot(\n",
        "        kind='bar',\n",
        "        figsize=(11,6),\n",
        "        color='blue',\n",
        "        title=title,\n",
        "        ylabel='Count',\n",
        "        rot=45\n",
        "    )\n",
        "\n",
        "    if percentage:\n",
        "      for i, perc in enumerate(primary_class_proportions):\n",
        "          x_offset = i + 1 -1.3\n",
        "          height = primary_class.value_counts()[i] + 50\n",
        "          plt.annotate(str(round(perc, 2)) + \"%\", (x_offset, height), fontsize=12)\n",
        "      i = 0\n",
        "\n",
        "    plt.legend()\n",
        "    plt.show();"
      ],
      "execution_count": null,
      "outputs": []
    },
    {
      "cell_type": "code",
      "metadata": {
        "colab": {
          "base_uri": "https://localhost:8080/",
          "height": 421
        },
        "id": "flC67I3HvSsN",
        "outputId": "9dff7b11-81b8-49b7-bc85-475aed76eb3a"
      },
      "source": [
        "plot_class_distribution(raw_data['taxonomy'], title='Primary Class Distribution')"
      ],
      "execution_count": null,
      "outputs": [
        {
          "output_type": "display_data",
          "data": {
            "image/png": "[encoded data removed]",
            "text/plain": [
              "<Figure size 792x432 with 1 Axes>"
            ]
          },
          "metadata": {
            "tags": [],
            "needs_background": "light"
          }
        }
      ]
    },
    {
      "cell_type": "code",
      "metadata": {
        "colab": {
          "base_uri": "https://localhost:8080/",
          "height": 422
        },
        "id": "BCujTU85vSsO",
        "outputId": "8597386e-451c-482d-9b01-afee4b3f9fc1"
      },
      "source": [
        "plot_class_distribution(raw_data.loc[raw_data['taxonomy'] == 173, 'subtaxonomy'], title='Secondary Class 173 Distribution')"
      ],
      "execution_count": null,
      "outputs": [
        {
          "output_type": "display_data",
          "data": {
            "image/png": "[encoded data removed]",
            "text/plain": [
              "<Figure size 792x432 with 1 Axes>"
            ]
          },
          "metadata": {
            "tags": [],
            "needs_background": "light"
          }
        }
      ]
    },
    {
      "cell_type": "code",
      "metadata": {
        "colab": {
          "base_uri": "https://localhost:8080/",
          "height": 422
        },
        "id": "IRppgCWPwU_L",
        "outputId": "c3ac76d0-d211-4359-b369-b4e736d3bc0d"
      },
      "source": [
        "plot_class_distribution(raw_data.loc[raw_data['taxonomy'] == 273, 'subtaxonomy'], title='Secondary Class 273 Distribution', percentage=True)"
      ],
      "execution_count": null,
      "outputs": [
        {
          "output_type": "display_data",
          "data": {
            "image/png": "[encoded data removed]",
            "text/plain": [
              "<Figure size 792x432 with 1 Axes>"
            ]
          },
          "metadata": {
            "tags": [],
            "needs_background": "light"
          }
        }
      ]
    },
    {
      "cell_type": "code",
      "metadata": {
        "colab": {
          "base_uri": "https://localhost:8080/",
          "height": 422
        },
        "id": "u9psXFs8wrb3",
        "outputId": "2959ccc8-047a-4a53-c83b-b477ea04f595"
      },
      "source": [
        "plot_class_distribution(raw_data.loc[raw_data['taxonomy'] == 268, 'subtaxonomy'], title='Secondary Class 268 Distribution')"
      ],
      "execution_count": null,
      "outputs": [
        {
          "output_type": "display_data",
          "data": {
            "image/png": "[encoded data removed]",
            "text/plain": [
              "<Figure size 792x432 with 1 Axes>"
            ]
          },
          "metadata": {
            "tags": [],
            "needs_background": "light"
          }
        }
      ]
    },
    {
      "cell_type": "code",
      "metadata": {
        "colab": {
          "base_uri": "https://localhost:8080/",
          "height": 422
        },
        "id": "1I0JSIbuw0e9",
        "outputId": "2bd764f1-ea2c-44b7-8d36-ac2b70aeb4a9"
      },
      "source": [
        "plot_class_distribution(raw_data.loc[raw_data['taxonomy'] == 2, 'subtaxonomy'], title='Secondary Class 2 Distribution', percentage=True)"
      ],
      "execution_count": null,
      "outputs": [
        {
          "output_type": "display_data",
          "data": {
            "image/png": "[encoded data removed]",
            "text/plain": [
              "<Figure size 792x432 with 1 Axes>"
            ]
          },
          "metadata": {
            "tags": [],
            "needs_background": "light"
          }
        }
      ]
    },
    {
      "cell_type": "code",
      "metadata": {
        "colab": {
          "base_uri": "https://localhost:8080/",
          "height": 422
        },
        "id": "kct0szg4w-Dr",
        "outputId": "ea717cd6-fc0d-4da5-e246-cb251641e0e7"
      },
      "source": [
        "plot_class_distribution(raw_data.loc[raw_data['taxonomy'] == 59, 'subtaxonomy'], title='Secondary Class 59 Distribution', percentage=True)"
      ],
      "execution_count": null,
      "outputs": [
        {
          "output_type": "display_data",
          "data": {
            "image/png": "[encoded data removed]",
            "text/plain": [
              "<Figure size 792x432 with 1 Axes>"
            ]
          },
          "metadata": {
            "tags": [],
            "needs_background": "light"
          }
        }
      ]
    },
    {
      "cell_type": "code",
      "metadata": {
        "colab": {
          "base_uri": "https://localhost:8080/",
          "height": 421
        },
        "id": "szcH3lPgxCPi",
        "outputId": "01a7eb05-c753-4373-f038-ee93331a596e"
      },
      "source": [
        "plot_class_distribution(raw_data.loc[raw_data['taxonomy'] == 280, 'subtaxonomy'], title='Secondary Class 280 Distribution', percentage=True)"
      ],
      "execution_count": null,
      "outputs": [
        {
          "output_type": "display_data",
          "data": {
            "image/png": "[encoded data removed]",
            "text/plain": [
              "<Figure size 792x432 with 1 Axes>"
            ]
          },
          "metadata": {
            "tags": [],
            "needs_background": "light"
          }
        }
      ]
    },
    {
      "cell_type": "code",
      "metadata": {
        "colab": {
          "base_uri": "https://localhost:8080/",
          "height": 422
        },
        "id": "1G-r_EaIxikI",
        "outputId": "2f8b18c5-044f-48d5-8e23-4a3bcd6e6723"
      },
      "source": [
        "plot_class_distribution(raw_data.loc[raw_data['taxonomy'] == 70, 'subtaxonomy'], title='Secondary Class 70 Distribution', percentage=True)"
      ],
      "execution_count": null,
      "outputs": [
        {
          "output_type": "display_data",
          "data": {
            "image/png": "[encoded data removed]",
            "text/plain": [
              "<Figure size 792x432 with 1 Axes>"
            ]
          },
          "metadata": {
            "tags": [],
            "needs_background": "light"
          }
        }
      ]
    },
    {
      "cell_type": "code",
      "metadata": {
        "colab": {
          "base_uri": "https://localhost:8080/",
          "height": 422
        },
        "id": "VGhAp5yyyGni",
        "outputId": "766de879-7a63-4bc7-a897-c49df72c8f87"
      },
      "source": [
        "plot_class_distribution(raw_data.loc[raw_data['taxonomy'] == 9, 'subtaxonomy'], title='Secondary Class 9 Distribution', percentage=False)"
      ],
      "execution_count": null,
      "outputs": [
        {
          "output_type": "display_data",
          "data": {
            "image/png": "[encoded data removed]",
            "text/plain": [
              "<Figure size 792x432 with 1 Axes>"
            ]
          },
          "metadata": {
            "tags": [],
            "needs_background": "light"
          }
        }
      ]
    },
    {
      "cell_type": "markdown",
      "metadata": {
        "id": "18SZ-Fs9yYEm"
      },
      "source": [
        "**Notes**\n",
        "\n",
        "<u>Primary Class</u>\n",
        "\n",
        "- 8 unique classes\n",
        "- Class imbalance\n",
        "- Class 173 is the most represented class with 31.13% of the data points belonging to it\n",
        "- Class 9 is the least represented class with only 0.23% of the data points belonging to it\n",
        "\n",
        "<u>Secondary Classes</u>\n",
        "\n",
        "- Some of the secondary classes represent less than 1% of the primary classes. We would argue that this is noise derived from incorrect labeling."
      ]
    },
    {
      "cell_type": "markdown",
      "metadata": {
        "id": "UfvCUfmZQOSQ"
      },
      "source": [
        "# 3. Multi-class Classification Problem: Primary Class -> Target is only `taxonomy`\n",
        "\n",
        "train, val and test sets (See train_test_sets.ipynb):\n",
        "- train_v0.csv: 70% of the dataset\n",
        "- val_v0.csv: 15% of the dataset\n",
        "- test_v0.csv: 15% of the dataset\n",
        "\n",
        "The dataset has been splitted using stratification to keep the class distribution.\n"
      ]
    },
    {
      "cell_type": "code",
      "metadata": {
        "colab": {
          "base_uri": "https://localhost:8080/",
          "height": 204
        },
        "id": "YOjBLzJgQNgK",
        "outputId": "451200a4-51c6-41b3-f8e3-eb39e2672526"
      },
      "source": [
        "train = pd.read_csv(\n",
        "    \"/content/drive/MyDrive/Colab Notebooks/PFM/data/train_v0.csv\",\n",
        "    index_col=0,\n",
        "    encoding='utf-8'\n",
        ")\n",
        "train.head()"
      ],
      "execution_count": null,
      "outputs": [
        {
          "output_type": "execute_result",
          "data": {
            "text/html": [
              "<div>\n",
              "<style scoped>\n",
              "    .dataframe tbody tr th:only-of-type {\n",
              "        vertical-align: middle;\n",
              "    }\n",
              "\n",
              "    .dataframe tbody tr th {\n",
              "        vertical-align: top;\n",
              "    }\n",
              "\n",
              "    .dataframe thead th {\n",
              "        text-align: right;\n",
              "    }\n",
              "</style>\n",
              "<table border=\"1\" class=\"dataframe\">\n",
              "  <thead>\n",
              "    <tr style=\"text-align: right;\">\n",
              "      <th></th>\n",
              "      <th>title</th>\n",
              "      <th>description</th>\n",
              "      <th>taxonomy</th>\n",
              "    </tr>\n",
              "  </thead>\n",
              "  <tbody>\n",
              "    <tr>\n",
              "      <th>10525</th>\n",
              "      <td>Bernina Accessoireag</td>\n",
              "      <td>Meet the Bernina accessories:\\n* By a Bernina ...</td>\n",
              "      <td>273</td>\n",
              "    </tr>\n",
              "    <tr>\n",
              "      <th>19671</th>\n",
              "      <td>ABC iPad - Like a computer and even more</td>\n",
              "      <td>Every Thursday and Sunday from 11 to 12\\nA cou...</td>\n",
              "      <td>70</td>\n",
              "    </tr>\n",
              "    <tr>\n",
              "      <th>37172</th>\n",
              "      <td>Meisterkonzert</td>\n",
              "      <td>NaN</td>\n",
              "      <td>173</td>\n",
              "    </tr>\n",
              "    <tr>\n",
              "      <th>43220</th>\n",
              "      <td>GZA</td>\n",
              "      <td>The legendary founder and leader of Wu-Tang Cl...</td>\n",
              "      <td>173</td>\n",
              "    </tr>\n",
              "    <tr>\n",
              "      <th>6905</th>\n",
              "      <td>Little BIG City</td>\n",
              "      <td>Best of Berlin - from 'CafÃ© Achteck' over the...</td>\n",
              "      <td>273</td>\n",
              "    </tr>\n",
              "  </tbody>\n",
              "</table>\n",
              "</div>"
            ],
            "text/plain": [
              "                                          title  ... taxonomy\n",
              "10525                      Bernina Accessoireag  ...      273\n",
              "19671  ABC iPad - Like a computer and even more  ...       70\n",
              "37172                            Meisterkonzert  ...      173\n",
              "43220                                       GZA  ...      173\n",
              "6905                            Little BIG City  ...      273\n",
              "\n",
              "[5 rows x 3 columns]"
            ]
          },
          "metadata": {
            "tags": []
          },
          "execution_count": 13
        }
      ]
    },
    {
      "cell_type": "markdown",
      "metadata": {
        "id": "9Pfhig4JzwMr"
      },
      "source": [
        "## 3.1. EDA"
      ]
    },
    {
      "cell_type": "markdown",
      "metadata": {
        "id": "rYUwUXIy0V1H"
      },
      "source": [
        "## 3.1. Class distribution in training set"
      ]
    },
    {
      "cell_type": "code",
      "metadata": {
        "id": "M5vhNkwHyL17",
        "colab": {
          "base_uri": "https://localhost:8080/",
          "height": 421
        },
        "outputId": "0af810ce-f3cf-43ad-ab0c-6beff247f4d7"
      },
      "source": [
        "plot_class_distribution(train['taxonomy'], title='Taxonomy Distribution in training set')"
      ],
      "execution_count": null,
      "outputs": [
        {
          "output_type": "display_data",
          "data": {
            "image/png": "[encoded data removed]",
            "text/plain": [
              "<Figure size 792x432 with 1 Axes>"
            ]
          },
          "metadata": {
            "tags": [],
            "needs_background": "light"
          }
        }
      ]
    },
    {
      "cell_type": "code",
      "metadata": {
        "colab": {
          "base_uri": "https://localhost:8080/"
        },
        "id": "gjzrFe9iSglZ",
        "outputId": "7fb10d93-d1c0-4b45-e8f0-4a8393d87bb2"
      },
      "source": [
        "# display some examples belonging to class 9\n",
        "for row in train.loc[train['taxonomy'] == 9, ['title', 'description']][:5].itertuples():\n",
        "  print(row[1])\n",
        "  print(row[2])\n",
        "  print(\"#######################\")"
      ],
      "execution_count": null,
      "outputs": [
        {
          "output_type": "stream",
          "text": [
            "Priority Access: Barcelona Sagrada Familia Tour\n",
            "Duration: 90 minutes (approx.)\r\n",
            "\r\n",
            "Visit La Sagrada Familia in Barcelona on a 1.5-hour skip-the-line tour! With a knowledgeable local guide, head straight past the cathedralâ€™s long entrance lines to learn all about the UNESCO-listed cathedral and its charismatic creator: Antoni Gaudi. After exploring the monument, visit the onsite La Sagrada Familia Museum to see an array of cathedral artifacts.\r\n",
            "\r\n",
            "Select a start time to suit your schedule, and then meet your guide in central Barcelona. Walk straight past the long entrance lines, which are often in excess of two hours long, to Gaudiâ€™s Gothic masterpiece: La Sagrada Familia. After skipping the line, set off to explore Barcelonaâ€™s attention-grabbing church on a comprehensive walking tour. Listed as a UNESCO World Heritage site, La Sagrada Familia is consecrated and was proclaimed a minor basilica by Pope Benedict XVI. Learn all about its fascinating history from your guide, and hear how Gaudi designed the churchâ€™s interior as a Latin cross complete with five aisles. Gaze in admiration at the opulent ornamentation and walk underneath vaults that measure some 230-feet (70-meters) high.Before leaving the church, visit La Sagrada Familia Museum to see drawings, plaster models and pictures about the development of the cathedral since the late 1880s. La Sagrada Familia remains famously unfinished, and the museum also documents information about the construction that is currently underway. The anticipated completion date of the building is 2026, the centennial of Gaudiâ€™s death.Your tour finishes inside the museum, but you can stay inside for longer, if you wish, to browse the exhibits at your own pace.\r\n",
            "\r\n",
            "Departure Time: Various\r\n",
            "\r\n",
            "Return Details: Concludes outside La Sagrada Familia Museum\n",
            "#######################\n",
            "Camp Nou Tour\n",
            "Book the Camp Nou Tour and take a 1.5-hour independent tour of Spainâ€™s largest stadium and Museum. Learn about FC Barcelonaâ€™s history, achievements and values while you visit the landmarkâ€™s most symbolic areas.\r\n",
            "\r\n",
            "Skip the lines and explore one of Barcelonaâ€™s most-visited attractions. The recently renovated FC Barcelonaâ€™s Museum is modern, with interactive murals and large-format audiovisuals. It houses an extensive collection of trophies and other items that reveal why and how BarÃ§a has become one of the worldâ€™s top clubs.\r\n",
            "\r\n",
            "Camp Nou Tour\r\n",
            "\r\n",
            "Retrace the footsteps of Barcelonaâ€™s legendary players like Maradona, Kubula, Ronaldinho, Cruyff, Guardiola, Messi, Xavi and Iniesta and feel their passion for their football team.\r\n",
            "\r\n",
            "On your tour of the Stadium, follow the assigned route and enjoy the panoramic views of the Stadium from the tunnel onto the pitch, the benches and changing rooms. Then walk on to the field, where youâ€™ll feel like a professional football player. Next, visit the press room, commentary boxes, mixed area and television studio.\r\n",
            "\r\n",
            "Climb to the second floor and enjoy the acclaimed multimedia room, refurbished in 2010, which has received very positive feedback from both visitors and partners. It includes showcases, interactive murals and large-format audiovisuals.\r\n",
            "\r\n",
            "Opening hours\r\n",
            "\r\n",
            "You can access Camp Nou Stadium whenever you wish during its opening hours.\r\n",
            "\r\n",
            "Important information\r\n",
            "\r\n",
            "You must redeem your voucher for skip the line tickets at Julia Travel Tourist Office (Carrer de Balmes, 5 â€“ near PlaÃ§a de Catalunya).\r\n",
            "The tour is independent and takes approximately 1.5-hours. You can purchase an audio guide in English.\r\n",
            "On match days, visitors wonâ€™t have access to certain areas like the locker rooms.\n",
            "#######################\n",
            "Viator Exclusive: Early Access to Sagrada Familia with Optional Tower Access\n",
            "Duration: 2 hours (approx.)\r\n",
            "\r\n",
            "Be one of the first visitors inside La Sagrada Familia in Barcelona on this 2 hour tour. Head inside the famously unfinished church by late, great Catalan architect Antoni GaudÃ­, and marvel at its design right as the structure first opens. Check out the tree-like columns, rich decoration and stained glass windows; admire the religious symbolism of the facades; and learn about the history of this UNESCO World Heritage Site from your guide. Upgrade your ticket to include access to the tower.\r\n",
            "\r\n",
            "Admire the incredible exterior with its soaring spires, and head straight inside for a guided tour of the UNESCO-listed Roman Catholic church, considered the master work of Antoni GaudÃ­. As one of the first visitors of the day, experience the full force of GaudÃ­'s artistic genius and listen as your guide recounts the architect's vision for the church. Gaze upward and soak up sights of the towering columns, stained glass windows and rich ornamentation. View the five aisles â€” designed like a Latin cross â€” and learn how GaudÃ­ drew inspiration from nature, eschewing straight lines in favor of curves and jagged edges. Hear, too, how construction of the church began in 1882 and was only a quarter complete when GaudÃ­ died in a road accident in 1926. Check out the vaults that reach some 230 feet (70 meters) high, and, as you walk around, learn about the rich Christian symbolism of the decoration, facades and planned spires. Having explored the church, enjoy some time to roam the area at your own leisure. To upgrade your experience, opt for a 30-minute visit (self-guided) to the top of church's tower, where you can look out on sweeping views over Barcelona. Please note that the trip to the top includes a climb of roughly 400 steps.\r\n",
            "\r\n",
            "Departure Point: OUTSIDE Sagrada Familiaâ€™s â€œBOTIGA TIENDA SHOPâ€�. Centrally located meeting point in Barcelona.\r\n",
            "\r\n",
            "Departure Time: 8:50am \r\n",
            "Please note that is mandatory to be 15 minutes before the departure time at the meeting point for the check in.\r\n",
            "\r\n",
            "Return Details: Sagrada Familia\n",
            "#######################\n",
            "TOURIST TRAIN PANORAMIC\n",
            "INCLUDES a return without leaving the train.\n",
            "\n",
            "Discover Granada and its main points of interest with the tourist train of Granada City Tour. This ticket offers you the opportunity to visit the most important points of interest in the city and enjoy the best views in a fast way.\n",
            "\n",
            "Location: Granada\n",
            "\n",
            "From â‚¬ 6\n",
            "#######################\n",
            "Dusseldorf Airport Private Departure Transfer\n",
            "Duration:\r\n",
            "60 minutes (approx.)\r\n",
            "\r\n",
            "Travel from your Dusseldorf City Hotel to Dusseldorf International Airport. Transfer services are available 24 hours a day, 7 days a week.\r\n",
            "\r\n",
            "When making a booking, you will need to advise your flight details and your Dusseldorf City Hotel details. Your transfer will be confirmed within 24 hours and you will be provided with a travel voucher to present to the driver. 24 - 48 hours prior to your transfer, you will be required to call the supplier directly (the contact number will be provided on your travel voucher) to reconfirm exact pick up times and places.It's that easy!Price is per person, based on 6 adults per car/vehicle.\r\n",
            "\r\n",
            "Departure Time:\r\n",
            "Your chosen time (transfers operate 24 hours a day, 7 days a week)\n",
            "#######################\n"
          ],
          "name": "stdout"
        }
      ]
    },
    {
      "cell_type": "markdown",
      "metadata": {
        "id": "LPzlaHkoTg8V"
      },
      "source": [
        "Class 9 represents events such as tranfers, vouchers or tickers for activities, etc."
      ]
    },
    {
      "cell_type": "markdown",
      "metadata": {
        "id": "Z3FHjvsVTyXU"
      },
      "source": [
        "## 3.2. Text data\n",
        "\n",
        "Inspect text data to work out cleaning requirements."
      ]
    },
    {
      "cell_type": "code",
      "metadata": {
        "colab": {
          "base_uri": "https://localhost:8080/"
        },
        "id": "kKcs__9vTguu",
        "outputId": "d66ad85a-5e8d-4849-864e-bf6509e339f3"
      },
      "source": [
        "for i in range(25):\n",
        "  i = random.randint(0, 40000)\n",
        "  row = train.iloc[i]\n",
        "  print(f\"Title:\\n{row['title']}\")\n",
        "  print(f\"Description:\\n{row['description']}\")\n",
        "  print(\"________________________________________________\")"
      ],
      "execution_count": null,
      "outputs": [
        {
          "output_type": "stream",
          "text": [
            "Title:\n",
            "Danna Paola\n",
            "Description:\n",
            "nan\n",
            "________________________________________________\n",
            "Title:\n",
            "Elvis Tribute Night\n",
            "Description:\n",
            "Mark Anthony is internationally known and recognised by Elvis Presley Enterprises as one of the top Elvis Tribute Artist in the world! He has won numerous awards and contests and will be performing in Portsmouth's Gaiety Bar on south Parade Pier.\n",
            "\n",
            "Make sure you book your tickets now for a fun-filled evening with the King of King tribute acts.\n",
            "________________________________________________\n",
            "Title:\n",
            "Beijing Peking Opera Famous Stage Concert\n",
            "Description:\n",
            "Purchase notice: Restricted purchase instructions: 6 purchases per seat Type of seat: Please press the seat corresponding to the ticket, orderly check in. Children's admission reminder: Admission of tickets over 1.2 meters, no admission below 1.2 meters\n",
            "Prohibited items: food, beverage, camera, charging treasure, lighter, etc. Physical ticket: This project supports admission by physical ticket and supports the following methods of ticket collection:\n",
            "Express delivery: shipping 10 yuan (V4 and above members), SF delivery. - Pick up from the door: Go to the store and pick up the store. Shop at Room 903A, Huapu International Building, No. 19 Chaowai Street, Chaoyang District, Beijing (Monday -\n",
            "Friday: 09:30 - 18:30 (except for National Day holidays). -\n",
            "On-site ticket collection: Ticket cattle staff will send tickets to the scene one hour before the opening of the show. The contact information of the staff and the specific ticket collection location will be sent to the reserved mobile phone number by SMS notification on the day of the performance.\n",
            "Moderator: Liu Yang\n",
            "\n",
            "Overture: Jinghu Concerto: \"Winter Spring\"\n",
            "\n",
            "Performer: Wei Wei Feng Zhenyu Kang Changsheng (Youth Qinqin)\n",
            "\n",
            "Accompaniment: a group of national Peking Opera Theatre\n",
            "\n",
            "The first chapter: \"The Year of the Fire\" (Coloring)\n",
            "\n",
            "1. \"The Red Lantern\" selected paragraph \"pain the history of revolutionaries\"\n",
            "\n",
            "The singer\n",
            "\n",
            "Li Yuhe Liu Lei (Youth old actor)\n",
            "\n",
            "Grandma Li Zhang Jing (national first-level actor)\n",
            "\n",
            "Li Tiemei Chen Jing (national first-level actor)\n",
            "\n",
            "2. \"Du Fu Shan\" Selected paragraph \"Home to live in Anyuan\"\n",
            "\n",
            "The singer\n",
            "\n",
            "Ke Xiang Gao Cui (still sent to Tsing Yi actor)\n",
            "\n",
            "3. \"Shajiabang\" selected section \"military and civilian fish and water\"\n",
            "\n",
            "The singer\n",
            "\n",
            "Sha Grandma Guo Yaoyao (national first-level actor)\n",
            "\n",
            "Guo Jianguang Han Fuchao (Youth old actor)\n",
            "\n",
            "4. \"Jiang Jie\" Selected paragraph \"embroidered red flag\"\n",
            "\n",
            "The singer\n",
            "\n",
            "Jiang Jie Li Wenying (Chengpai Tsing Yi actor)\n",
            "\n",
            "5. \"Plain Combat\" Selected paragraph \"Be a good Chinese child\"\n",
            "\n",
            "The singer\n",
            "\n",
            "Xiaoying Zi Dai Zhongyu (Young Actor)\n",
            "\n",
            "6. \"Butterfly Flower\" Selected Section: \"Ancient Goodbye\"\n",
            "\n",
            "The singer\n",
            "\n",
            "Yang Kaihui Zhu Hong (Mei Tsing Yi actor)\n",
            "\n",
            "7. \"Shajiabang\" selected paragraph \"Intelligence\"\n",
            "\n",
            "The singer\n",
            "\n",
            "A Qingyi Liu Mengyu (Zhang Pai Tsing Yi actor)\n",
            "\n",
            "Yan Deyi Liu Meng (Youth old actor)\n",
            "\n",
            "Hu Chuankui Wei Jiaqing (national second-level actor)\n",
            "\n",
            "Chapter 2: Traditional Essence (Calling)\n",
            "\n",
            "8. Singing repertoire: \"Tai Zhen Biography\" selected paragraph \"Listen to the palace\"\n",
            "\n",
            "Singer: Yu Yi (Mei Tsing Yi actor)\n",
            "\n",
            "9. Singing repertoire: \"LÃ¼ Bu and è²‚è�‰\" selected paragraph \"that day in the tiger prison big battlefield\"\n",
            "\n",
            "Singer: Chen Xuzhi (Ye Pai Xiaosheng actor)\n",
            "\n",
            "10. Singing repertoire: \"The empty city plan\" selected paragraph \"I was originally a person in Wollongong\"\n",
            "\n",
            "Singer: Liu Lei (Young actor)\n",
            "\n",
            "11.Singing repertoire: \"Lock Lin Po\" selected section \"Spring and Autumn Pavilion outside the storm\"\n",
            "\n",
            "Singer: Lu Yaoyao (Chengpai Tsing Yi actor)\n",
            "\n",
            "12.Singing repertoire: \"The æ§Š æ§Š æ§Š poem\" selected paragraph \"self-initiation soldiers\"\n",
            "\n",
            "Singer: Hu Bin (national second-level actor)\n",
            "\n",
            "13.Singing repertoire: \"Tai Zhen Biography\" selected paragraph \"Pang Cui Sleeve\"\n",
            "\n",
            "Singer: Zhu Hong\n",
            "\n",
            "14. Singing repertoire: \"Catch and release Cao\" Selected paragraph \"Listen to his words\"\n",
            "\n",
            "Singer: Ma Xiangfei (national first-level actor)\n",
            "\n",
            "15. Singing repertoire: \"The champion of the champion\" selected \"from that day\"\n",
            "\n",
            "Singer: Liu Mengyu\n",
            "\n",
            "16. Singing repertoire: \"Jiujiangkou\" selected paragraph \"heart is like a fire\"\n",
            "\n",
            "Singer: Liu Kuikui (national first-class actor)\n",
            "\n",
            "17.Singing repertoire: \"Dragon robes\" selected paragraph \"Long Chefeng into the Imperial City\"\n",
            "\n",
            "Singer: Guo Yaoyao (national first-class actor)\n",
            "\n",
            "18. Singing repertoire:\n",
            "________________________________________________\n",
            "Title:\n",
            "Precita Eyes Mission Trail Mural Walks\n",
            "Description:\n",
            "The Wall Have Eyes Mural people are nuts. Wall paintings never last and can't be purchased, and the people who go specifically to see them are often the hoi polloi who know nothing about art. How can muralists expect to survive in the art world? The answer: They don't. The folks who make their work on outdoor surfaces tend to be little-D democrats who love the idea of art for art's sake, who like bringing joy to all kinds of passersby, from tiny stroller inhabitants to seniors whose gait may give them more time than anyone to appreciate what's right in front of them. The weekly Mission Trail Mural Walks give you, whatever your age and whatever the state of your art education, a chance to see the pieces that famously decorate the Mission District with a guide who can answer your questions, even if yours is, \"Don't these people know they're never going to make any money doing this?\" â€” Hiya Swanhuyser\n",
            "________________________________________________\n",
            "Title:\n",
            "Zomer in NEMO - Fantastische Fietsen\n",
            "Description:\n",
            "nan\n",
            "________________________________________________\n",
            "Title:\n",
            "Fiorella Mannoia in concert at the Teatro degli Arcimboldi. Schedules and tickets\n",
            "Description:\n",
            "Thursday 3 October Fiorella Mannoia will perform in a live concert at the Teatro degli Arcimboldi, on her \"Staff Tour\".\n",
            "\n",
            "The tour\n",
            "\n",
            "After having ended, with a full house after another, the first part of Fiorella Mannoia's theatrical tour, the \"Personal Tour\" starts from the Roman Theater of Verona (Monday 8 July) and continues throughout the summer in the most summer places evocative and magical of our peninsula.The tour, in which Fiorella presents live excerpts from her new recording project and her greatest successes, will also continue in autumn with a second part in Italy's most important theaters.\n",
            "\n",
            "Accompanying Fiorella on stage during the tour are the musicians Diego Corradin (drums), Claudio Storniolo (piano and keyboards), Luca Visigalli (bass), Carlo Di Francesco (percussion and musical direction), Max Rosati (guitars) and Alessandro \"Doc\" De Crescenzo (guitars).\n",
            "\n",
            "The tour dates\n",
            "\n",
            "These are the next tour dates:\n",
            "\n",
            "8 July at the Roman Theater of Verona (Verona Folk Festival)\n",
            "\n",
            "11 July at the Derthona Arena in Tortona (Alessandria)\n",
            "\n",
            "13 July at the Castello Sforzesco in Vigevano (Pavia)\n",
            "\n",
            "16 July at the Cortile del Belvedere in S. Leucio (Caserta)\n",
            "\n",
            "21 July in Pontechianale (Cuneo) within the Suoni del Monviso festival (concert starts at 12.00)\n",
            "\n",
            "July 22nd at the Roman Theater of Aosta (Aosta Classical Festival)\n",
            "\n",
            "24 July at the Beach Arena in Lignano Sabbiadoro (Udine)\n",
            "\n",
            "27 July at the Regina Arena in Cattolica (Rimini)\n",
            "\n",
            "29 July at the Cavea - Auditorium Parco della Musica in Rome\n",
            "\n",
            "3 August in Piazza Cattedrale in Oristano (Festival Dromos)\n",
            "\n",
            "August 5 at the Arena of Versilia in Cinquale (Massa Carrara)\n",
            "\n",
            "6 August at the Arena Central Park of Follonica (Grosseto)\n",
            "\n",
            "8 August at the Arena B. Gigli in Porto Recanati (Macerata)\n",
            "\n",
            "August 9 at the Teatro D'Annunzio in Pescara\n",
            "\n",
            "11 August in Piazza Duomo in Lecce\n",
            "\n",
            "13 August in Piazza XX Settembre in Rionero in Vulture (Potenza)\n",
            "\n",
            "August 16 in Piazza LibertÃ  in Ragusa\n",
            "\n",
            "August 17 at the Ancient Theater of Taormina (Messina)\n",
            "\n",
            "19 August at the Teatro Verdura in Palermo\n",
            "\n",
            "August 22nd at the Summer Arena in Soverato (Catanzaro)\n",
            "\n",
            "August 25 at the moat of the Castle of Barletta (Bari)\n",
            "\n",
            "September 5 in Piazza dei Signori in Vicenza\n",
            "\n",
            "3 October at the Teatro Degli Arcimboldi in Milan\n",
            "\n",
            "October 5 at the Teatro Colosseo in Turin\n",
            "\n",
            "7 October at the Augusteo Theater in Naples\n",
            "\n",
            "10 October at the PalaDianflex Gran Teatro of Atena Lucana (Salerno)\n",
            "\n",
            "12 October at the Teatro Carlo Gesualdo in Avellino\n",
            "\n",
            "October 13 at the Carlo Gesualdo Theater in Avellino\n",
            "\n",
            "October 15th at the Carlo Felice Theater in Genoa\n",
            "\n",
            "16 October at the Ponchielli Theater in Cremona\n",
            "\n",
            "October 18 at the Teatro Verdi in Florence\n",
            "\n",
            "19 October at the Teatro Verdi in Florence\n",
            "\n",
            "October 22nd at the Creberg Theater in Bergamo\n",
            "\n",
            "24 October at the Ariston Theater in Sanremo\n",
            "\n",
            "26 October at the Pala Congresssi in Lugano\n",
            "\n",
            "27 October at the Europauditorium in Bologna\n",
            "\n",
            "29 October at the Openjobmetis Theater in Varese\n",
            "\n",
            "October 30 at the Politeama Theater of Piacenza (NEW DATE)\n",
            "\n",
            "December 15 at the Teatro Verdi in Montecatini (NEW DATE)\n",
            "\n",
            "Tickets\n",
            "\n",
            "Tickets for tour dates are available in advance on TicketOne.it and in authorized sales points (for info www.friendsandpartners.it).\n",
            "________________________________________________\n",
            "Title:\n",
            "Rugby tournament Oktoberfest 7s\n",
            "Description:\n",
            "nan\n",
            "________________________________________________\n",
            "Title:\n",
            "Dinner and Dance with the Gipsy Kings\n",
            "Description:\n",
            "The Grammy Award-winning band, the Gipsy Kings, are performing two exclusive shows in Cape Town this December. Dinner and Dance with the Gipsy Kings includes a 5-course dining experience, followed by an intimate live performance of flamenco guitars and rumba and salsa rhythms.\n",
            "________________________________________________\n",
            "Title:\n",
            "Enescu / Feinberg\n",
            "Description:\n",
            "nan\n",
            "________________________________________________\n",
            "Title:\n",
            "LEVYsalon: a performance showcase and matinÃ©e\n",
            "Description:\n",
            "LEVYdance hosts a recurring micro-residency, LEVYsalon, that provides artists of all disciplines with rehearsal space to explore risk-taking new ideas and create boundary-pushing work. Each group performs 5 minutes of their in-progress works at the culminating showcase.\n",
            "Saturday evening's showcase is followed a DJ-hosted dance party w/ DJ MIKAH D. Sunday's matinee includes a Q&A session with the artists after the show and is made possible by the generous support of Bob Trombly, an advocate for local artists.\n",
            "TICKETS$15 in advance, $20 at the door\n",
            "SHOWCASE - Saturday, June 22Doors â€“ 8:30pm (with cash/card bar + snacks)Show â€“ 9:00pmDJ-hosted dance party after the show\n",
            "MATINEE - Sunday, June 23Doors â€“ 3:00pm (with light refreshments and coffee)Show â€“ 3:30pmQ&A with presenting artists at 5:00pm\n",
            "FEATURED ARTISTS TBA\n",
            "________________________________________________\n",
            "Title:\n",
            "Fun in the Son\n",
            "Description:\n",
            "This faith based event which started some 15 years ago has now bloomed into a full scale family enrichment event that seeks to provide uplifting, engaging and holistic experiences for visitors & Jamaicans.\n",
            "Some of the popular faith based artistes who performed at the last staging included: Donnie McClurkin, Kirk Franklin, Tye Tribett, Hezekiah Walker, Andrew Palau, Aaron T amongst others.\n",
            "This year promises to be just as electrifying with many of the representatives from the international churches attending the Fun In the Son event engaging in community based mission activities around the island prior to /or after the staging of the event.\n",
            "________________________________________________\n",
            "Title:\n",
            "III Morphological Contest of Asturcones. Llanes\n",
            "Description:\n",
            "The town of Posada de Llanes hosts the III Morphological Contest of Asturcones, on Saturday, August 10.\n",
            "\n",
            "The morphological contest will be held from 11:00 a.m. to 2:30 p.m. In addition, there will be carriage rides, show drag tests and much more.\n",
            "________________________________________________\n",
            "Title:\n",
            "Home Design Budapest\n",
            "Description:\n",
            "Home Design is a fair for furniture, accessories and home decoration in Budapest. Visitors to obtain information on latest trends, materials and products in the market. Another central point of exposure are accessories for the home. The fair is open to all groups that are interested in interior design and home decoration. Visitors can find here in depth and complete information on latest news, trends, services and products in various fields. The Home Design will take place in 5 days from Wednesday, 03. April to Sunday, 07. April 2019 in Budapest.\n",
            "________________________________________________\n",
            "Title:\n",
            "DJ Tensnake\n",
            "Description:\n",
            "German-born DJ / Producer Tensnake lands at Bar Rouge for a night of contagious and highly precise modern disco music. Tensnake grew up listening to disco, soul, boogie, funk and 80s pop and embracing dancefloor-inspired influences from Larry Levan to Junior Boys Own, Romanthony to Masters at Work. Tensnakeâ€™s first taste of critical acclaim came with the release, in 2009, of his \"\"In the End (I Want You to Cry)\"\" EP on the label Running Back. 100rmb pre-sale, 200rmb on the door.\n",
            "________________________________________________\n",
            "Title:\n",
            "Olympiacos vs Anadolu Efes\n",
            "Description:\n",
            "Competition: Euroleague\n",
            "Date: 13 December 2018\n",
            "Kick-off: 21:00\n",
            "Venue: Peace and Friendship Stadium (Piraes)\n",
            "________________________________________________\n",
            "Title:\n",
            "Biel vs Davos\n",
            "Description:\n",
            "Competition: National League\n",
            "Date: 19 January 2019\n",
            "Kick-off: 19:45\n",
            "Venue: Tissot Arena (Biel/Bienne)\n",
            "________________________________________________\n",
            "Title:\n",
            "Create a safe Internet connection for your children\n",
            "Description:\n",
            "nan\n",
            "________________________________________________\n",
            "Title:\n",
            "Bride's Do Good Boutique Pop-Up\n",
            "Description:\n",
            "Buy a pre-loved wedding dress and help end child marriage.\n",
            "________________________________________________\n",
            "Title:\n",
            "Olympiacos Piraeus vs AEL Larissa\n",
            "Description:\n",
            "nan\n",
            "________________________________________________\n",
            "Title:\n",
            "Selva At Celine Orlando | Sat 04.06.19\n",
            "Description:\n",
            "nan\n",
            "________________________________________________\n",
            "Title:\n",
            "Lecture \"Nathalie de Vries: Architecture Speaks â€“ The Language of MVRDV\"\n",
            "Description:\n",
            "Lecture about architecture by Nathalie de Vries.\n",
            "________________________________________________\n",
            "Title:\n",
            "New York City Football Club Soccer\n",
            "Description:\n",
            "[Update, October 10: NYCFC finished first in the Eastern Conference of MLS. They will host a conference semifinal on October 23, though depending on the Yankees' postseason performance in baseball's playoffs, itâ€™s possible NYCFC will wind up playing its home game(s) in Citi Field rather than Yankee Stadium.]The New York City marketâ€™s newer Major League Soccer team, which made its debut in 2015, have adopted Yankee Stadium as their home pitch. Led by captain Alex Ring and last seasonâ€™s assist leader Maxi Moralez, the 2019 squad looks to build on a three-year streak of playoff appearances; Alexandru Mitrita, a newly signed winger from Romania, should add some firepower. Theyâ€™re coached by DomÃ¨nec Torrent, a former assistant to one of the worldâ€™s top managers, Manchester City boss Pep Guardiola.\n",
            "________________________________________________\n",
            "Title:\n",
            "Mystic Eye â€“ Wisdom Meditation & Bliss with Sadhguru\n",
            "Description:\n",
            "nan\n",
            "________________________________________________\n",
            "Title:\n",
            "Charity Gala\n",
            "Description:\n",
            "Benefit Gala for the benefit of AMIF (Association of People with Physical Disabilities of Villena and Comarca). With the participation of the Mercedes Calabuig Dance Studio.\n",
            "________________________________________________\n",
            "Title:\n",
            "THE CIRCLE OF LIFE\n",
            "Description:\n",
            "Tells the story of a small lion heir to the throne of the savannah who is unjustly accused of the death of his father and is therefore forced to escape from the kingdom. In his exile, he will meet great friends who will help him return home and recover what is rightfully his. It is a great story of struggle, courage and love that will move young and old alike!\n",
            "________________________________________________\n"
          ],
          "name": "stdout"
        }
      ]
    },
    {
      "cell_type": "markdown",
      "metadata": {
        "id": "Hb9xUHjdXvXX"
      },
      "source": [
        "### Preprocessing and cleaning\n",
        "\n",
        "**1. Text Cleaning**\n",
        "1. Remove symbols derived from formatted strings\n",
        "2. Remove symbols derived from translation from spanish to english -> Approach: if the word contains a symbols, remove.\n",
        "3. Remove punctuation\n",
        "4. Remove brackets and parentheses\n",
        "5. Remove email addresses or links\n",
        "6. Remove numbers\n",
        "\n",
        "**2. Missing descriptions or titles**\n",
        "1. Check number of missing descriptions or title and drop\n",
        "2. Explore lenghts of titles and description to work out how to join them and how many words should be considered\n",
        "\n",
        "**3. Text Processing**\n",
        "1. Try different approaches to find the most informative parts of the text\n"
      ]
    },
    {
      "cell_type": "markdown",
      "metadata": {
        "id": "rYwIh5Baw0-B"
      },
      "source": [
        "#### 1. Cleaning"
      ]
    },
    {
      "cell_type": "code",
      "metadata": {
        "id": "KWYfUultcTyV"
      },
      "source": [
        "def is_ascii(w):\n",
        "  try:\n",
        "    w.encode(\"ascii\")\n",
        "    return True\n",
        "  except UnicodeEncodeError:\n",
        "    return False"
      ],
      "execution_count": null,
      "outputs": []
    },
    {
      "cell_type": "code",
      "metadata": {
        "id": "7bBgQTVfaBD7"
      },
      "source": [
        "def text_cleaning(text):\n",
        "  \"\"\"\n",
        "  Clean text from symbols, punctuation, etc.\n",
        "\n",
        "  Parameters:\n",
        "  -----------\n",
        "  text: string, text data\n",
        "  \n",
        "  Returns:\n",
        "  --------\n",
        "  cleaned_text: string, cleaned text data\n",
        "  \"\"\"\n",
        "  # remove string formatting '\\n' or '\\t'\n",
        "  tmp_text = re.sub(r'\\n+', '. ', text)\n",
        "  tmp_text = re.sub(r'\\t+', '. ', text)\n",
        "  # remove words with non-ascii characters\n",
        "  tmp_text = \" \".join([word for word in tmp_text.split() if is_ascii(word)])\n",
        "  # remove email address\n",
        "  tmp_text = \" \".join([word for word in tmp_text.split() if not word.startswith(\"@\")])\n",
        "  # remove urls\n",
        "  tmp_text = re.sub(r'http\\S+', '', tmp_text, flags=re.MULTILINE)\n",
        "  tmp_text = re.sub(r'www\\S+', '', tmp_text, flags=re.MULTILINE)\n",
        "  # remove punctuation but . (to split sentences)\n",
        "  cleaned_text = re.sub('[^A-Za-z.,]+', ' ', tmp_text)\n",
        "  # lowercase\n",
        "  cleaned_text = cleaned_text.lower()\n",
        "\n",
        "  return cleaned_text"
      ],
      "execution_count": null,
      "outputs": []
    },
    {
      "cell_type": "code",
      "metadata": {
        "colab": {
          "base_uri": "https://localhost:8080/",
          "height": 52
        },
        "id": "f0W1Ltd9u4jy",
        "outputId": "b3aaa9eb-8445-469d-fa08-5586448d009f"
      },
      "source": [
        "print(train.iloc[5, 1])\n",
        "text_cleaning(train.iloc[5, 1])"
      ],
      "execution_count": null,
      "outputs": [
        {
          "output_type": "stream",
          "text": [
            "With Helena Attlee and Rachel Roddy.\n"
          ],
          "name": "stdout"
        },
        {
          "output_type": "execute_result",
          "data": {
            "application/vnd.google.colaboratory.intrinsic+json": {
              "type": "string"
            },
            "text/plain": [
              "'with helena attlee and rachel roddy.'"
            ]
          },
          "metadata": {
            "tags": []
          },
          "execution_count": 17
        }
      ]
    },
    {
      "cell_type": "code",
      "metadata": {
        "colab": {
          "base_uri": "https://localhost:8080/",
          "height": 191
        },
        "id": "5p95VE9gwNCL",
        "outputId": "759033eb-c42c-4084-9d73-e574c5e9b642"
      },
      "source": [
        "print(train.iloc[9, 1], \"\\n__________\\n\")\n",
        "text_cleaning(train.iloc[9, 1])"
      ],
      "execution_count": null,
      "outputs": [
        {
          "output_type": "stream",
          "text": [
            "Magdalena Fleitas music festivalThe surroundings of the Planetarium are filled with music and laughter by the hand of Magdalena Fleitas. A unique event to enjoy the summer and approach, in a pedagogical way, music and art to all children and families.\n",
            "\n",
            "January 21 | Schedule to be confirmed\n",
            "\n",
            "Surroundings of the Planetarium (Av. Y Sarmiento and Belisario RoldÃ¡n) \n",
            "__________\n",
            "\n"
          ],
          "name": "stdout"
        },
        {
          "output_type": "execute_result",
          "data": {
            "application/vnd.google.colaboratory.intrinsic+json": {
              "type": "string"
            },
            "text/plain": [
              "'magdalena fleitas music festivalthe surroundings of the planetarium are filled with music and laughter by the hand of magdalena fleitas. a unique event to enjoy the summer and approach, in a pedagogical way, music and art to all children and families. january schedule to be confirmed surroundings of the planetarium av. y sarmiento and belisario'"
            ]
          },
          "metadata": {
            "tags": []
          },
          "execution_count": 87
        }
      ]
    },
    {
      "cell_type": "code",
      "metadata": {
        "colab": {
          "base_uri": "https://localhost:8080/",
          "height": 582
        },
        "id": "OWLQYRzswT-j",
        "outputId": "6023459c-e8f0-4fc1-eddf-750fd812d779"
      },
      "source": [
        "print(train.iloc[500, 1], \"\\n__________\\n\")\n",
        "text_cleaning(train.iloc[500, 1])"
      ],
      "execution_count": null,
      "outputs": [
        {
          "output_type": "stream",
          "text": [
            "The Festival NOS Primavera Sound presents a new ticket that includes VIP access with gastronomic experience in the renowned restaurant \"O Gaveto\" in Matosinhos.\n",
            "\n",
            "NOS Primavera Sound is back in the City Park June 6-8. The location next to the beach invites you to have a quiet and leisurely lunch before entering the grounds and enjoying the best fish and seafood there.\n",
            "\n",
            "On June 8, Saturday, it will be possible to take the experience of NOS Primavera Sound beyond the festival grounds and start early, with an inviting and irresistible rice lunch of lavagante and a unique wine tasting, given by those who know better and promote the Douro region.\n",
            "\n",
            "In what promises to be a truly different experience, NOS Primavera Sound has joined the renowned restaurant \"O Gaveto\" and created the ticket NOS Primavera Sound with Rice of the Same that includes a gastronomic experience, among others, to experience the famous rice of flamboyant, familiar to the locals and increasingly applauded by enthusiastic and influential publications such as the Financial Times or the Wine Spectator.\n",
            "\n",
            "And because the best food calls for the best wine, this is a Masterclass of the Douro Boys, the informal association that brings together five of Douro's most renowned producers for the purpose of jointly promoting the wines of the five fifths and which, all the years, takes some of the best wines of the region to NOS Primavera Sound.\n",
            "\n",
            "Paladares of excellence in a moment that, more than a meal, will be a gastronomic celebration to precede the celebration of the best music of the present time, late and night outside, in the enclosure of the City Park, with access to the zone of guests NOS.\n",
            "\n",
            "To get access to this experience, simply purchase the NOS Primavera Sound ticket with Arroz do Same available for sale on the festival's official website for 60 â‚¬.\n",
            "\n",
            "For entry to the restaurant, and in the guests' area on June 8, it is necessary to present a ticket valid for all days or for the 8th day of the festival and the ticket for the experience at NOS Primavera Sound with Rice of the Same.\n",
            "\n",
            "Supply is limited to existing stock.\n",
            "\n",
            "NOS Primavera Sound 2019 06 to 08 Jun 2019 (Porto, City Park) The Festival returns to the city of Porto on June 6, 7 and 8, 2019, highlighting names such as Erykah Badu, Rosalia, J Balvin, ... .ver more\n",
            "\n",
            "06 to 08 Jun 2019 (Porto, City Park)\n",
            "The Festival returns to the city of Porto on June 6, 7 and 8, 2019, highlighting names such as Erykah Badu, Rosalia, J Balvin, ... more\n",
            "Porto: Bus Hop-On Hop-Off, Cruise and Wine CellarBegin the historic city of Porto with a combined package that gives you access to a 2-day hop-on hop-off tourist bus, a Douro river cruise and a visit to the wine cellars of the Port of Casa CalÃ©m.Duration: 2 days from â‚¬ 25.20 person\n",
            "\n",
            "Get to know the historic city of Porto with a combined package that gives you access to a 2-day tourist bus hop-on hop-off, a cruise \n",
            "__________\n",
            "\n"
          ],
          "name": "stdout"
        },
        {
          "output_type": "execute_result",
          "data": {
            "application/vnd.google.colaboratory.intrinsic+json": {
              "type": "string"
            },
            "text/plain": [
              "'the festival nos primavera sound presents a new ticket that includes vip access with gastronomic experience in the renowned restaurant o gaveto in matosinhos. nos primavera sound is back in the city park june . the location next to the beach invites you to have a quiet and leisurely lunch before entering the grounds and enjoying the best fish and seafood there. on june , saturday, it will be possible to take the experience of nos primavera sound beyond the festival grounds and start early, with an inviting and irresistible rice lunch of lavagante and a unique wine tasting, given by those who know better and promote the douro region. in what promises to be a truly different experience, nos primavera sound has joined the renowned restaurant o gaveto and created the ticket nos primavera sound with rice of the same that includes a gastronomic experience, among others, to experience the famous rice of flamboyant, familiar to the locals and increasingly applauded by enthusiastic and influential publications such as the financial times or the wine spectator. and because the best food calls for the best wine, this is a masterclass of the douro boys, the informal association that brings together five of douro s most renowned producers for the purpose of jointly promoting the wines of the five fifths and which, all the years, takes some of the best wines of the region to nos primavera sound. paladares of excellence in a moment that, more than a meal, will be a gastronomic celebration to precede the celebration of the best music of the present time, late and night outside, in the enclosure of the city park, with access to the zone of guests nos. to get access to this experience, simply purchase the nos primavera sound ticket with arroz do same available for sale on the festival s official website for for entry to the restaurant, and in the guests area on june , it is necessary to present a ticket valid for all days or for the th day of the festival and the ticket for the experience at nos primavera sound with rice of the same. supply is limited to existing stock. nos primavera sound to jun porto, city park the festival returns to the city of porto on june , and , , highlighting names such as erykah badu, rosalia, j balvin, ... .ver more to jun porto, city park the festival returns to the city of porto on june , and , , highlighting names such as erykah badu, rosalia, j balvin, ... more porto bus hop on hop off, cruise and wine cellarbegin the historic city of porto with a combined package that gives you access to a day hop on hop off tourist bus, a douro river cruise and a visit to the wine cellars of the port of casa days from . person get to know the historic city of porto with a combined package that gives you access to a day tourist bus hop on hop off, a cruise'"
            ]
          },
          "metadata": {
            "tags": []
          },
          "execution_count": 28
        }
      ]
    },
    {
      "cell_type": "markdown",
      "metadata": {
        "id": "1s_Dsmhxw9et"
      },
      "source": [
        "#### 2. Missing descriptions or titles"
      ]
    },
    {
      "cell_type": "code",
      "metadata": {
        "colab": {
          "base_uri": "https://localhost:8080/"
        },
        "id": "nfMV4FOlw9F-",
        "outputId": "e0fe9a0a-8225-4f44-f0a7-c770a104b8cc"
      },
      "source": [
        "# check number of missing descriptions or titles\n",
        "train.isnull().sum()"
      ],
      "execution_count": null,
      "outputs": [
        {
          "output_type": "execute_result",
          "data": {
            "text/plain": [
              "title             0\n",
              "description    8930\n",
              "taxonomy          0\n",
              "dtype: int64"
            ]
          },
          "metadata": {
            "tags": []
          },
          "execution_count": 18
        }
      ]
    },
    {
      "cell_type": "code",
      "metadata": {
        "colab": {
          "base_uri": "https://localhost:8080/",
          "height": 35
        },
        "id": "VjtT_GhYzIhW",
        "outputId": "0e0f74d1-6a0d-4da1-d3a6-9e2d62f3cb2a"
      },
      "source": [
        "# proportion of missing descriptions\n",
        "str(round((train['description'].isnull().sum() / train.shape[0])*100, 2)) + \"%\""
      ],
      "execution_count": null,
      "outputs": [
        {
          "output_type": "execute_result",
          "data": {
            "application/vnd.google.colaboratory.intrinsic+json": {
              "type": "string"
            },
            "text/plain": [
              "'21.31%'"
            ]
          },
          "metadata": {
            "tags": []
          },
          "execution_count": 19
        }
      ]
    },
    {
      "cell_type": "code",
      "metadata": {
        "colab": {
          "base_uri": "https://localhost:8080/",
          "height": 265
        },
        "id": "8Ln6ED0owsy8",
        "outputId": "d9326aef-64a3-4268-d218-3639e1a46912"
      },
      "source": [
        "train[train['description'].isnull()]['title'].map(lambda x: len(x.split())).hist();"
      ],
      "execution_count": null,
      "outputs": [
        {
          "output_type": "display_data",
          "data": {
            "image/png": "[encoded data removed]",
            "text/plain": [
              "<Figure size 432x288 with 1 Axes>"
            ]
          },
          "metadata": {
            "tags": [],
            "needs_background": "light"
          }
        }
      ]
    },
    {
      "cell_type": "markdown",
      "metadata": {
        "id": "6ihH04JMy5vY"
      },
      "source": [
        "Most of the titles with missing description are shorter than 5 words and therefore won't be very informative. Although they represent the 21.31% of the training set, I will not use them to train the model in a first attempt."
      ]
    },
    {
      "cell_type": "code",
      "metadata": {
        "id": "Q2-5LdD6yvsZ"
      },
      "source": [
        "# drop rows with missing descriptions\n",
        "no_mv_train = train.dropna(axis=0)"
      ],
      "execution_count": null,
      "outputs": []
    },
    {
      "cell_type": "code",
      "metadata": {
        "colab": {
          "base_uri": "https://localhost:8080/",
          "height": 204
        },
        "id": "geGQXG03zz_r",
        "outputId": "a8a29183-b7cb-4550-bf49-b5d8e6eee770"
      },
      "source": [
        "# clean text\n",
        "cleaned_train = no_mv_train.copy()\n",
        "cleaned_train['title'] = cleaned_train['title'].map(text_cleaning)\n",
        "cleaned_train['description'] = cleaned_train['description'].map(text_cleaning)\n",
        "cleaned_train.head()"
      ],
      "execution_count": null,
      "outputs": [
        {
          "output_type": "execute_result",
          "data": {
            "text/html": [
              "<div>\n",
              "<style scoped>\n",
              "    .dataframe tbody tr th:only-of-type {\n",
              "        vertical-align: middle;\n",
              "    }\n",
              "\n",
              "    .dataframe tbody tr th {\n",
              "        vertical-align: top;\n",
              "    }\n",
              "\n",
              "    .dataframe thead th {\n",
              "        text-align: right;\n",
              "    }\n",
              "</style>\n",
              "<table border=\"1\" class=\"dataframe\">\n",
              "  <thead>\n",
              "    <tr style=\"text-align: right;\">\n",
              "      <th></th>\n",
              "      <th>title</th>\n",
              "      <th>description</th>\n",
              "      <th>taxonomy</th>\n",
              "    </tr>\n",
              "  </thead>\n",
              "  <tbody>\n",
              "    <tr>\n",
              "      <th>10525</th>\n",
              "      <td>bernina accessoireag</td>\n",
              "      <td>meet the bernina accessories by a bernina expe...</td>\n",
              "      <td>273</td>\n",
              "    </tr>\n",
              "    <tr>\n",
              "      <th>19671</th>\n",
              "      <td>abc ipad like a computer and even more</td>\n",
              "      <td>every thursday and sunday from to a course to ...</td>\n",
              "      <td>70</td>\n",
              "    </tr>\n",
              "    <tr>\n",
              "      <th>43220</th>\n",
              "      <td>gza</td>\n",
              "      <td>the legendary founder and leader of wu tang cl...</td>\n",
              "      <td>173</td>\n",
              "    </tr>\n",
              "    <tr>\n",
              "      <th>6905</th>\n",
              "      <td>little big city</td>\n",
              "      <td>best of berlin from achteck over the wall to t...</td>\n",
              "      <td>273</td>\n",
              "    </tr>\n",
              "    <tr>\n",
              "      <th>46483</th>\n",
              "      <td>a foodwriting masterclass</td>\n",
              "      <td>with helena attlee and rachel roddy.</td>\n",
              "      <td>273</td>\n",
              "    </tr>\n",
              "  </tbody>\n",
              "</table>\n",
              "</div>"
            ],
            "text/plain": [
              "                                        title  ... taxonomy\n",
              "10525                    bernina accessoireag  ...      273\n",
              "19671  abc ipad like a computer and even more  ...       70\n",
              "43220                                     gza  ...      173\n",
              "6905                          little big city  ...      273\n",
              "46483               a foodwriting masterclass  ...      273\n",
              "\n",
              "[5 rows x 3 columns]"
            ]
          },
          "metadata": {
            "tags": []
          },
          "execution_count": 22
        }
      ]
    },
    {
      "cell_type": "code",
      "metadata": {
        "colab": {
          "base_uri": "https://localhost:8080/",
          "height": 281
        },
        "id": "bxerezui0goY",
        "outputId": "08c209d2-c413-4b19-fb28-05dd02584bc2"
      },
      "source": [
        "# title length distribution\n",
        "cleaned_train['title'].map(lambda x: len(x.split())).hist()\n",
        "plt.title(\"title length distribution\");"
      ],
      "execution_count": null,
      "outputs": [
        {
          "output_type": "display_data",
          "data": {
            "image/png": "[encoded data removed]",
            "text/plain": [
              "<Figure size 432x288 with 1 Axes>"
            ]
          },
          "metadata": {
            "tags": [],
            "needs_background": "light"
          }
        }
      ]
    },
    {
      "cell_type": "code",
      "metadata": {
        "colab": {
          "base_uri": "https://localhost:8080/",
          "height": 281
        },
        "id": "Rc3Wil8705KX",
        "outputId": "c8bd8388-8268-4a35-ff83-f6a37f5f88c4"
      },
      "source": [
        "cleaned_train['description'].map(lambda x: len(x.split())).hist()\n",
        "plt.title(\"description length distribution\");"
      ],
      "execution_count": null,
      "outputs": [
        {
          "output_type": "display_data",
          "data": {
            "image/png": "[encoded data removed]",
            "text/plain": [
              "<Figure size 432x288 with 1 Axes>"
            ]
          },
          "metadata": {
            "tags": [],
            "needs_background": "light"
          }
        }
      ]
    },
    {
      "cell_type": "markdown",
      "metadata": {
        "id": "N1uO0ug62PoX"
      },
      "source": [
        "The distributions are right-skewed. But I will not use the whole description, limiting the number of words."
      ]
    },
    {
      "cell_type": "markdown",
      "metadata": {
        "id": "V5i9Hk7V4E5R"
      },
      "source": [
        "#### 3. Text processing"
      ]
    },
    {
      "cell_type": "markdown",
      "metadata": {
        "id": "YtkLu2zq4JKZ"
      },
      "source": [
        "**Approach 1**: First 2 sentences of the text + Last 2 sentences"
      ]
    },
    {
      "cell_type": "code",
      "metadata": {
        "id": "wKSleRcDlqzS"
      },
      "source": [
        "def text_preprocessing_a1(text):\n",
        "  \"\"\"\n",
        "  Approach 1: Join first 2 sentences with last 2 sentences of the text.\n",
        "  \n",
        "  Parameters:\n",
        "  -----------\n",
        "  text: string, text data\n",
        "  \n",
        "  Returns:\n",
        "  --------\n",
        "  preprocessed_text: string, preprocessed text data\n",
        "  \"\"\"\n",
        "  # sentence tokenize based on '. '\n",
        "  sentences = text.split('. ')\n",
        "  # get 2 first and 2 last sentences\n",
        "  if len(sentences) >= 4:\n",
        "    preprocessed_text = \". \".join(text.split('. ')[:2] + text.split('. ')[-2:])\n",
        "    return preprocessed_text\n",
        "  # if there are not 4 sentences, return full text\n",
        "  else:\n",
        "    preprocessed_text = text\n",
        "    return preprocessed_text"
      ],
      "execution_count": null,
      "outputs": []
    },
    {
      "cell_type": "code",
      "metadata": {
        "id": "0n2y7oru1tMB"
      },
      "source": [
        "preprocessed_train = cleaned_train.drop('title', axis=1).copy()\n",
        "preprocessed_train['description'] = cleaned_train['description'].map(text_preprocessing_a1)\n",
        "preprocessed_train = preprocessed_train.rename(columns={'description': 'text'})"
      ],
      "execution_count": null,
      "outputs": []
    },
    {
      "cell_type": "code",
      "metadata": {
        "colab": {
          "base_uri": "https://localhost:8080/"
        },
        "id": "7HKiWxlu7TTp",
        "outputId": "b460e57d-c902-4f7b-d85b-bdad0f846f35"
      },
      "source": [
        "preprocessed_train.shape"
      ],
      "execution_count": null,
      "outputs": [
        {
          "output_type": "execute_result",
          "data": {
            "text/plain": [
              "(32985, 2)"
            ]
          },
          "metadata": {
            "tags": []
          },
          "execution_count": 27
        }
      ]
    },
    {
      "cell_type": "code",
      "metadata": {
        "colab": {
          "base_uri": "https://localhost:8080/",
          "height": 204
        },
        "id": "Ayi6l4EV78Y8",
        "outputId": "e10944d4-13a2-4532-c439-bf7d4969246e"
      },
      "source": [
        "preprocessed_train.head()"
      ],
      "execution_count": null,
      "outputs": [
        {
          "output_type": "execute_result",
          "data": {
            "text/html": [
              "<div>\n",
              "<style scoped>\n",
              "    .dataframe tbody tr th:only-of-type {\n",
              "        vertical-align: middle;\n",
              "    }\n",
              "\n",
              "    .dataframe tbody tr th {\n",
              "        vertical-align: top;\n",
              "    }\n",
              "\n",
              "    .dataframe thead th {\n",
              "        text-align: right;\n",
              "    }\n",
              "</style>\n",
              "<table border=\"1\" class=\"dataframe\">\n",
              "  <thead>\n",
              "    <tr style=\"text-align: right;\">\n",
              "      <th></th>\n",
              "      <th>text</th>\n",
              "      <th>taxonomy</th>\n",
              "    </tr>\n",
              "  </thead>\n",
              "  <tbody>\n",
              "    <tr>\n",
              "      <th>10525</th>\n",
              "      <td>meet the bernina accessories by a bernina expe...</td>\n",
              "      <td>273</td>\n",
              "    </tr>\n",
              "    <tr>\n",
              "      <th>19671</th>\n",
              "      <td>every thursday and sunday from to a course to ...</td>\n",
              "      <td>70</td>\n",
              "    </tr>\n",
              "    <tr>\n",
              "      <th>43220</th>\n",
              "      <td>the legendary founder and leader of wu tang cl...</td>\n",
              "      <td>173</td>\n",
              "    </tr>\n",
              "    <tr>\n",
              "      <th>6905</th>\n",
              "      <td>best of berlin from achteck over the wall to t...</td>\n",
              "      <td>273</td>\n",
              "    </tr>\n",
              "    <tr>\n",
              "      <th>46483</th>\n",
              "      <td>with helena attlee and rachel roddy.</td>\n",
              "      <td>273</td>\n",
              "    </tr>\n",
              "  </tbody>\n",
              "</table>\n",
              "</div>"
            ],
            "text/plain": [
              "                                                    text  taxonomy\n",
              "10525  meet the bernina accessories by a bernina expe...       273\n",
              "19671  every thursday and sunday from to a course to ...        70\n",
              "43220  the legendary founder and leader of wu tang cl...       173\n",
              "6905   best of berlin from achteck over the wall to t...       273\n",
              "46483               with helena attlee and rachel roddy.       273"
            ]
          },
          "metadata": {
            "tags": []
          },
          "execution_count": 28
        }
      ]
    },
    {
      "cell_type": "code",
      "metadata": {
        "colab": {
          "base_uri": "https://localhost:8080/",
          "height": 69
        },
        "id": "pH623raYhCPY",
        "outputId": "13624364-8d1a-4583-d4fb-21b1fd3bf827"
      },
      "source": [
        "preprocessed_train.iloc[800, 0]"
      ],
      "execution_count": null,
      "outputs": [
        {
          "output_type": "execute_result",
          "data": {
            "application/vnd.google.colaboratory.intrinsic+json": {
              "type": "string"
            },
            "text/plain": [
              "'kidd keo one of the most admired and respected artists of the moment, with his trap music is getting important recognitions, practically since its inception has been highlighted as one of the most important artists of the genre. in a year full of successes, sold out concerts, tours in latin america, los angeles usa, is closing a very fruitful year on an artistic and personal level, surpassing its records of downloads on all platforms, taking its trap music around the whole world, full of a wide range of proposals and demand for brands very recognized in the industry. on february , , he will visit at one of the stops on his world tour.'"
            ]
          },
          "metadata": {
            "tags": []
          },
          "execution_count": 29
        }
      ]
    },
    {
      "cell_type": "code",
      "metadata": {
        "colab": {
          "base_uri": "https://localhost:8080/",
          "height": 281
        },
        "id": "dHSZMEYz8ExM",
        "outputId": "d1d25e9b-3da5-4047-ca7c-1dcef37fc9bf"
      },
      "source": [
        "preprocessed_train['text'].map(lambda x: len(x.split())).hist()\n",
        "plt.title(\"preprocessed text length distribution with Approach 1\");"
      ],
      "execution_count": null,
      "outputs": [
        {
          "output_type": "display_data",
          "data": {
            "image/png": "[encoded data removed]",
            "text/plain": [
              "<Figure size 432x288 with 1 Axes>"
            ]
          },
          "metadata": {
            "tags": [],
            "needs_background": "light"
          }
        }
      ]
    },
    {
      "cell_type": "code",
      "metadata": {
        "id": "oCgvKJs6oeHB"
      },
      "source": [
        "# only keep instances with < 210 tokens\n",
        "preprocessed_train = preprocessed_train[preprocessed_train['text'].map(lambda x: len(x.split())) < 210]"
      ],
      "execution_count": null,
      "outputs": []
    },
    {
      "cell_type": "code",
      "metadata": {
        "id": "km55mNz1Lj-P"
      },
      "source": [
        "def encode_taxonomy(taxonomy):\n",
        "  \"\"\"\n",
        "  Label encode taxonomy for training distilbert.\n",
        "\n",
        "  Parameters:\n",
        "  -----------\n",
        "  taxonomy: int, taxonomy class\n",
        "  \n",
        "  Returns:\n",
        "  --------\n",
        "  encoding: int, encoded taxonomy class\n",
        "  \"\"\"\n",
        "  encoding_dict = {2: 0, 9: 1, 59: 2, 70: 3, 173: 4, 268: 5, 273: 6, 280: 7}\n",
        "  encoding = encoding_dict[taxonomy]\n",
        "\n",
        "  return encoding"
      ],
      "execution_count": null,
      "outputs": []
    },
    {
      "cell_type": "code",
      "metadata": {
        "id": "Juyns_LI0k_X"
      },
      "source": [
        "def preprocessing_a1(df):\n",
        "  \"\"\"\n",
        "  Cleaning and preprocessing following approach 1.\n",
        "\n",
        "  Parameters:\n",
        "  -----------\n",
        "  df: Pandas DataFrame, df with `title`, `description` and `taxonomy`\n",
        "  \n",
        "  Returns:\n",
        "  --------\n",
        "  preprocessed_df: Pandas DataFrame, df with `text` (preprocessed text) and `taxonomy`\n",
        "  \"\"\"\n",
        "  # drop rows with missing descriptions and drop title\n",
        "  cleaned_df = df.dropna(axis=0).drop('title', axis=1)\n",
        "  # clean description\n",
        "  cleaned_df['description'] = cleaned_df['description'].map(text_cleaning)\n",
        "  # preprocess description\n",
        "  preprocessed_df = cleaned_df.copy()\n",
        "  preprocessed_df['description'] = cleaned_df['description'].map(text_preprocessing_a1)\n",
        "  preprocessed_df = preprocessed_df.rename(columns={'description': 'text'})\n",
        "  # keep examples with less than 210 tokens\n",
        "  preprocessed_df = preprocessed_df[preprocessed_df['text'].map(lambda x: len(x.split())) < 210]\n",
        "\n",
        "  # encode taxonomy\n",
        "  preprocessed_df['taxonomy'] = preprocessed_df['taxonomy'].map(encode_taxonomy)\n",
        "\n",
        "  return preprocessed_df"
      ],
      "execution_count": null,
      "outputs": []
    },
    {
      "cell_type": "markdown",
      "metadata": {
        "id": "ZaI4_cWNyIJr"
      },
      "source": [
        "**Approach 2**: First 4 sentences of the text + Last 4 sentences"
      ]
    },
    {
      "cell_type": "code",
      "metadata": {
        "id": "ZGOvzsrpyKgu"
      },
      "source": [
        "def text_preprocessing_a2(text):\n",
        "  \"\"\"\n",
        "  Approach 2: Join first 4 sentences with last 4 sentences of the text.\n",
        "  \n",
        "  Parameters:\n",
        "  -----------\n",
        "  text: string, text data\n",
        "  \n",
        "  Returns:\n",
        "  --------\n",
        "  preprocessed_text: string, preprocessed text data\n",
        "  \"\"\"\n",
        "  # sentence tokenize based on '. '\n",
        "  sentences = text.split('. ')\n",
        "  # get 2 first and 2 last sentences\n",
        "  if len(sentences) >= 8:\n",
        "    preprocessed_text = \". \".join(text.split('. ')[:4] + text.split('. ')[-4:])\n",
        "    return preprocessed_text\n",
        "  # if there are not 8 sentences, return full text\n",
        "  else:\n",
        "    preprocessed_text = text\n",
        "    return preprocessed_text"
      ],
      "execution_count": null,
      "outputs": []
    },
    {
      "cell_type": "code",
      "metadata": {
        "id": "J7Xgd03YzoSH"
      },
      "source": [
        "preprocessed_train = cleaned_train.drop('title', axis=1).copy()\n",
        "preprocessed_train['description'] = cleaned_train['description'].map(text_preprocessing_a2)\n",
        "preprocessed_train = preprocessed_train.rename(columns={'description': 'text'})"
      ],
      "execution_count": null,
      "outputs": []
    },
    {
      "cell_type": "code",
      "metadata": {
        "colab": {
          "base_uri": "https://localhost:8080/",
          "height": 281
        },
        "id": "fqcq_8Y_zoPl",
        "outputId": "8684b6fa-17a9-4dc7-8b86-b7add890d17c"
      },
      "source": [
        "preprocessed_train['text'].map(lambda x: len(x.split())).hist()\n",
        "plt.title(\"preprocessed text length distribution with Approach 2\");"
      ],
      "execution_count": null,
      "outputs": [
        {
          "output_type": "display_data",
          "data": {
            "image/png": "[encoded data removed]",
            "text/plain": [
              "<Figure size 432x288 with 1 Axes>"
            ]
          },
          "metadata": {
            "tags": [],
            "needs_background": "light"
          }
        }
      ]
    },
    {
      "cell_type": "code",
      "metadata": {
        "id": "oz7ETnWQyVcV"
      },
      "source": [
        "def preprocessing_a2(df):\n",
        "  \"\"\"\n",
        "  Cleaning and preprocessing following approach 2.\n",
        "\n",
        "  Parameters:\n",
        "  -----------\n",
        "  df: Pandas DataFrame, df with `title`, `description` and `taxonomy`\n",
        "  \n",
        "  Returns:\n",
        "  --------\n",
        "  preprocessed_df: Pandas DataFrame, df with `text` (preprocessed text) and `taxonomy`\n",
        "  \"\"\"\n",
        "  # drop rows with missing descriptions and drop title\n",
        "  cleaned_df = df.dropna(axis=0).drop('title', axis=1)\n",
        "  # clean description\n",
        "  cleaned_df['description'] = cleaned_df['description'].map(text_cleaning)\n",
        "  # preprocess description\n",
        "  preprocessed_df = cleaned_df.copy()\n",
        "  preprocessed_df['description'] = cleaned_df['description'].map(text_preprocessing_a2)\n",
        "  preprocessed_df = preprocessed_df.rename(columns={'description': 'text'})\n",
        "  # keep examples with less than 210 tokens\n",
        "  preprocessed_df = preprocessed_df[preprocessed_df['text'].map(lambda x: len(x.split())) < 300]\n",
        "\n",
        "  # encode taxonomy\n",
        "  preprocessed_df['taxonomy'] = preprocessed_df['taxonomy'].map(encode_taxonomy)\n",
        "\n",
        "  return preprocessed_df"
      ],
      "execution_count": null,
      "outputs": []
    },
    {
      "cell_type": "markdown",
      "metadata": {
        "id": "3vwIfUIOUdEP"
      },
      "source": [
        "#4. Preprocessing and cleaning for `taxonomy 173`"
      ]
    },
    {
      "cell_type": "code",
      "metadata": {
        "colab": {
          "base_uri": "https://localhost:8080/",
          "height": 419
        },
        "id": "eIU4l0vlVsjf",
        "outputId": "f0f9c030-7f2b-4d52-9308-1145ab1f0d76"
      },
      "source": [
        "preprocessed_train[preprocessed_train['taxonomy'] == 173]"
      ],
      "execution_count": null,
      "outputs": [
        {
          "output_type": "execute_result",
          "data": {
            "text/html": [
              "<div>\n",
              "<style scoped>\n",
              "    .dataframe tbody tr th:only-of-type {\n",
              "        vertical-align: middle;\n",
              "    }\n",
              "\n",
              "    .dataframe tbody tr th {\n",
              "        vertical-align: top;\n",
              "    }\n",
              "\n",
              "    .dataframe thead th {\n",
              "        text-align: right;\n",
              "    }\n",
              "</style>\n",
              "<table border=\"1\" class=\"dataframe\">\n",
              "  <thead>\n",
              "    <tr style=\"text-align: right;\">\n",
              "      <th></th>\n",
              "      <th>text</th>\n",
              "      <th>taxonomy</th>\n",
              "    </tr>\n",
              "  </thead>\n",
              "  <tbody>\n",
              "    <tr>\n",
              "      <th>43220</th>\n",
              "      <td>the legendary founder and leader of wu tang cl...</td>\n",
              "      <td>173</td>\n",
              "    </tr>\n",
              "    <tr>\n",
              "      <th>40328</th>\n",
              "      <td>a show that brings together great exponents of...</td>\n",
              "      <td>173</td>\n",
              "    </tr>\n",
              "    <tr>\n",
              "      <th>50959</th>\n",
              "      <td>one more year, tsunami becomes one of the fest...</td>\n",
              "      <td>173</td>\n",
              "    </tr>\n",
              "    <tr>\n",
              "      <th>26401</th>\n",
              "      <td>the reverse side receives dj costa, thursday, ...</td>\n",
              "      <td>173</td>\n",
              "    </tr>\n",
              "    <tr>\n",
              "      <th>58952</th>\n",
              "      <td>homenagem brasileira to embraces the diversity...</td>\n",
              "      <td>173</td>\n",
              "    </tr>\n",
              "    <tr>\n",
              "      <th>...</th>\n",
              "      <td>...</td>\n",
              "      <td>...</td>\n",
              "    </tr>\n",
              "    <tr>\n",
              "      <th>12154</th>\n",
              "      <td>cover cup cuc tellez</td>\n",
              "      <td>173</td>\n",
              "    </tr>\n",
              "    <tr>\n",
              "      <th>12387</th>\n",
              "      <td>the intered organization organizes this solida...</td>\n",
              "      <td>173</td>\n",
              "    </tr>\n",
              "    <tr>\n",
              "      <th>57442</th>\n",
              "      <td>on june nd at the auditorium of the badajoz fa...</td>\n",
              "      <td>173</td>\n",
              "    </tr>\n",
              "    <tr>\n",
              "      <th>35996</th>\n",
              "      <td>a triple threat this march as more reverb, nak...</td>\n",
              "      <td>173</td>\n",
              "    </tr>\n",
              "    <tr>\n",
              "      <th>32309</th>\n",
              "      <td>the young and talented galician musician roi c...</td>\n",
              "      <td>173</td>\n",
              "    </tr>\n",
              "  </tbody>\n",
              "</table>\n",
              "<p>8569 rows × 2 columns</p>\n",
              "</div>"
            ],
            "text/plain": [
              "                                                    text  taxonomy\n",
              "43220  the legendary founder and leader of wu tang cl...       173\n",
              "40328  a show that brings together great exponents of...       173\n",
              "50959  one more year, tsunami becomes one of the fest...       173\n",
              "26401  the reverse side receives dj costa, thursday, ...       173\n",
              "58952  homenagem brasileira to embraces the diversity...       173\n",
              "...                                                  ...       ...\n",
              "12154                               cover cup cuc tellez       173\n",
              "12387  the intered organization organizes this solida...       173\n",
              "57442  on june nd at the auditorium of the badajoz fa...       173\n",
              "35996  a triple threat this march as more reverb, nak...       173\n",
              "32309  the young and talented galician musician roi c...       173\n",
              "\n",
              "[8569 rows x 2 columns]"
            ]
          },
          "metadata": {
            "tags": []
          },
          "execution_count": 32
        }
      ]
    },
    {
      "cell_type": "code",
      "metadata": {
        "colab": {
          "base_uri": "https://localhost:8080/",
          "height": 281
        },
        "id": "hF6qVxzkUhw4",
        "outputId": "f5203d41-1c1e-436e-defa-f62034abf37d"
      },
      "source": [
        "# length distribution after preprocessing and cleaning\n",
        "preprocessed_train[preprocessed_train['taxonomy'] == 173]['text'].map(lambda x: len(x.split())).hist()\n",
        "plt.title(\"preprocessed text length distribution of taxonomy 173 with Approach 1\");"
      ],
      "execution_count": null,
      "outputs": [
        {
          "output_type": "display_data",
          "data": {
            "image/png": "[encoded data removed]",
            "text/plain": [
              "<Figure size 432x288 with 1 Axes>"
            ]
          },
          "metadata": {
            "tags": [],
            "needs_background": "light"
          }
        }
      ]
    },
    {
      "cell_type": "markdown",
      "metadata": {
        "id": "2wr8AzwfWAA7"
      },
      "source": [
        "Use max length as 150"
      ]
    },
    {
      "cell_type": "code",
      "metadata": {
        "id": "L8b5ww7ZV5PF"
      },
      "source": [
        ""
      ],
      "execution_count": null,
      "outputs": []
    }
  ]
}